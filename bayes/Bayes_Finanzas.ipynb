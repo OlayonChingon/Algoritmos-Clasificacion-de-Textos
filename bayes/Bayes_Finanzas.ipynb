{
 "cells": [
  {
   "cell_type": "markdown",
   "id": "a3eb5abe-0568-4ceb-af08-315dfa1aedc7",
   "metadata": {},
   "source": [
    "# Teorema de Bayes con Aplicacion Financiera\n",
    "\n",
    "Explicacion: Tomamos un grafico de cotizacion de un activo en un periodo determinado en temporalidad diaria. El objetivo es establecer la probabilidad de cotizacion alcista al cierre diario del activo teniendo como evidencia la observacion de la tecnica estadica del cruce de las medias moviles\n",
    "\n",
    "### Periodo de analisis\n",
    "\n",
    "En la imagen vemos resaltado en azul la cantidad de velas tenidas en cuenta en el analisis. Las velas resaltadas con un circulo son parte del analisis\n",
    "\n",
    "<img src=\"./src/Periodo_analisis.JPG\" align=\"center\" width=\"600\" />\n",
    "\n",
    "### Cruce bajista de medias moviles\n",
    "\n",
    "En el periodo en estudio hay un solo cruce a la baja de la medias moviles. En la imagen lo resaltamos en rojo\n",
    "\n",
    "<img src=\"./src/Velas_cruce_baja.JPG\" align=\"center\" width=\"600\" />\n",
    "\n",
    "Como podemos observar tenemos en la zona resaltada **5 velas bajistas** y **7 velas alcistas**\n",
    "\n",
    "### Cruce alcista de medias moviles\n",
    "\n",
    "Resaltamos las zonas donde hay cruces de medias moviles al alza\n",
    "\n",
    "<img src=\"./src/velas_cruce_medias_alza.JPG\" align=\"center\" width=\"600\" />\n",
    "\n",
    "Aca tenemos **49 velas bajistas** y **64 velas alcistas**"
   ]
  },
  {
   "cell_type": "markdown",
   "id": "dac769d0-a54c-4b31-b4af-f559aeb194f6",
   "metadata": {},
   "source": [
    "## Definimos los eventos\n",
    "\n",
    "H : vela alcista\n",
    "\n",
    "~H: vela bajista\n",
    "\n",
    "E : cruce de medias moviles al alza\n",
    "\n",
    "~E: cruce de medias moviles a la baja"
   ]
  },
  {
   "cell_type": "markdown",
   "id": "b4bbc6f0-a0a0-4e21-807f-ff1060f3ee5a",
   "metadata": {},
   "source": [
    "## Hacemos un cuadro de doble entrada para ordenar los datos"
   ]
  },
  {
   "cell_type": "code",
   "execution_count": 3,
   "id": "730a96da-0457-4418-9721-04c2e4b4aba2",
   "metadata": {},
   "outputs": [
    {
     "name": "stdout",
     "output_type": "stream",
     "text": [
      "  Evidencia   H  ~H  Total\n",
      "0         E  64  49     71\n",
      "1        ~E   7   5     54\n",
      "2     Total  71  54    125\n"
     ]
    }
   ],
   "source": [
    "import pandas as pd\n",
    "\n",
    "# Datos de ejemplo\n",
    "data = {\n",
    "        'Evidencia':[\"E\", \"~E\", \"Total\"],\n",
    "        'H':        [64 , 7 , 71],\n",
    "        '~H':       [49 , 5 , 54],\n",
    "        \"Total\":    [71, 54, 125]}\n",
    "\n",
    "# Crear DataFrame\n",
    "df = pd.DataFrame(data)\n",
    "\n",
    "# Mostrar DataFrame\n",
    "print(df)\n",
    "\n",
    "\n"
   ]
  },
  {
   "cell_type": "markdown",
   "id": "44a8a955-83d0-490f-bc96-bfd4495fded2",
   "metadata": {},
   "source": [
    "## Probabilidades Iniciales\n",
    "\n",
    "P(H) : Probanbilidad de vela alcista\n",
    "\n",
    "p(E) : probabilidad de que el cruce de medias moviles exponenciales sea alsista\n",
    "\n",
    "P(~H) : Probabilidad vela bajista\n",
    "\n",
    "P(~E) : Probabilidad cruce de medias moviles exponenciales sea bajista"
   ]
  },
  {
   "cell_type": "markdown",
   "id": "52a22e43-7159-4a3f-99fa-1e21de3ee7c5",
   "metadata": {},
   "source": [
    "## Probabilidades condicionales \n",
    "\n",
    "P(H/E) : Probabilidad de que la vela sea alcista dado que el cruce de medias es alcista\n",
    "\n",
    "P(E/H) : Probabilidad de que el cruce de medias es alcista dado que la vela es alcista\n",
    "\n",
    "P(E/~H) : Probabilidad de que el cruce de medias es alcista dado que la vela es bajista \n",
    "\n"
   ]
  },
  {
   "cell_type": "markdown",
   "id": "3ad21977-77ce-44e0-b4c4-cd2415790084",
   "metadata": {},
   "source": [
    "## Teorema de bayes \n",
    "\n",
    "$ P(H/E) = \\frac{P(H) - P(E/H)}{P(E)} = \\frac{P(H) P(E/H)}{P(H) P(E/H) + P(\\neg  H) P(E/\\neg H)} $"
   ]
  },
  {
   "cell_type": "markdown",
   "id": "c12e64f7-a8f9-41c0-9868-e540d2d39e61",
   "metadata": {},
   "source": [
    "## Calculamos las probabilidas\n",
    "\n",
    "$$ \\frac{casos  posibles}{casos favorables} $$\n",
    "\n",
    "$ P(H) = \\frac{71}{125} = 0.568 $\n",
    "\n",
    "$ P(\\neg H) = \\frac{54}{125} = 0.432 $\n",
    "\n",
    "$ P(E) = \\frac{64}{125} = 0.512 $\n",
    "\n",
    "$ P(E/H) = \\frac{64}{71}   $   cantidad de velas alcistas en cruce de medias alcista/cantidad total de velas alcista en el periodo de estudio\n",
    "\n",
    "$ P(E/\\neg H) = \\frac{49}{54} = 0.568 $   cantidad de velas bajistas en cruce de medias alcista / cantidad total de velas bajista en el periodo de estudio\n",
    "\n",
    "\n",
    "\n"
   ]
  },
  {
   "cell_type": "markdown",
   "id": "432811df-fb08-465c-aac1-e418124a010f",
   "metadata": {},
   "source": [
    "## Python hace los calculos"
   ]
  },
  {
   "cell_type": "code",
   "execution_count": 4,
   "id": "c995f9d5-e0df-48b5-8e07-1d3bef5f7f5b",
   "metadata": {},
   "outputs": [
    {
     "name": "stdout",
     "output_type": "stream",
     "text": [
      "**********************************************************\n",
      "\n",
      " Probabilidad de alza accion P(H/E): 0.5663716814159291\n",
      "\n",
      "**********************************************************\n"
     ]
    }
   ],
   "source": [
    "#prob_alza : P(H)\n",
    "#prob_sintoma_dado_alza : P(E/H)\n",
    "#prob_sintoma_dado_no_alza : P(E/~H)\n",
    "#prob_no_alza : P(~H)\n",
    "#prob_alza_dado_sintoma : P(H/E) \n",
    "\n",
    "def calc_bayes(prior_A, prob_B_dado_A, prob_B):\n",
    "    return (prior_A * prob_B_dado_A) / prob_B\n",
    "\n",
    "if __name__ == '__main__':\n",
    "    prob_alza = 71/125\n",
    "    prob_sintoma_dado_alza = 64/71\n",
    "    prob_sintoma_dado_no_alza = 49/54\n",
    "    prob_no_alza = 1 - prob_alza\n",
    " \n",
    "    prob_sintoma = (prob_sintoma_dado_alza * prob_alza) + (prob_sintoma_dado_no_alza * prob_no_alza)\n",
    "\n",
    "    prob_alza_dado_sintoma = calc_bayes(prob_alza, prob_sintoma_dado_alza, prob_sintoma)\n",
    "\n",
    "print(\"**********************************************************\")\n",
    "print(\"\")\n",
    "print(f\" Probabilidad de alza accion P(H/E): {prob_alza_dado_sintoma}\")\n",
    "print(\"\")\n",
    "print(\"**********************************************************\")   "
   ]
  }
 ],
 "metadata": {
  "kernelspec": {
   "display_name": "Python 3 (ipykernel)",
   "language": "python",
   "name": "python3"
  },
  "language_info": {
   "codemirror_mode": {
    "name": "ipython",
    "version": 3
   },
   "file_extension": ".py",
   "mimetype": "text/x-python",
   "name": "python",
   "nbconvert_exporter": "python",
   "pygments_lexer": "ipython3",
   "version": "3.10.12"
  }
 },
 "nbformat": 4,
 "nbformat_minor": 5
}
