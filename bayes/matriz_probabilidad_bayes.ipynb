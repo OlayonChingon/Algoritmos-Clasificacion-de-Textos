{
 "cells": [
  {
   "cell_type": "code",
   "execution_count": null,
   "id": "f066cbfb-543b-4307-adfc-1f5d9004667c",
   "metadata": {},
   "outputs": [],
   "source": [
    "S1(suceso1): dia frio\n",
    "\n",
    "S2(suceso2): dia caliente\n",
    "\n",
    "S3(suceso3): dia tibio\n",
    "\n",
    "1A: dia anterior frio\n",
    "\n",
    "2A: Dia anterior caliente\n",
    "\n",
    "3A: Dia anterior tibio"
   ]
  },
  {
   "cell_type": "markdown",
   "id": "fa464948-ed25-4b72-a0dd-20bc8c0027d2",
   "metadata": {},
   "source": [
    "### Cuadro de doble entrada"
   ]
  },
  {
   "cell_type": "code",
   "execution_count": 4,
   "id": "eb90fa07-b7e3-49ab-b7c1-3b7e17cf92c7",
   "metadata": {},
   "outputs": [
    {
     "name": "stdout",
     "output_type": "stream",
     "text": [
      "          S1  S2  S3  Total\n",
      "0     1A   1   0   0      1\n",
      "1     2A   0   1   1      2\n",
      "2     3A   1   0   0      1\n",
      "3  Total   1   1   1      4\n"
     ]
    }
   ],
   "source": [
    "import pandas as pd\n",
    "\n",
    "# Datos de ejemplo\n",
    "data = {\n",
    "        '':[\"1A\", \"2A\", \"3A\", \"Total\"],\n",
    "        'S1':        [1 , 0 , 1, 1],\n",
    "        'S2':       [0 , 1 , 0, 1],\n",
    "        \"S3\":       [0, 1, 0, 1],\n",
    "        \"Total\":    [1, 2, 1, 4]}\n",
    "\n",
    "# Crear DataFrame\n",
    "df = pd.DataFrame(data)\n",
    "\n",
    "# Mostrar DataFrame\n",
    "print(df)"
   ]
  },
  {
   "cell_type": "markdown",
   "id": "c3cb12f4-023a-4522-bb0d-da8d986f00a0",
   "metadata": {},
   "source": [
    "### Probabilidades Iniciales\n",
    "\n",
    "P(S1) : Probabilidad que el dia sea frio          \n",
    "\n",
    "P(S2) : Probabilidad que el dia sea caliente      \n",
    "\n",
    "P(S2) : Probabilidad que el dia sea tibio         \n",
    "\n",
    "P(1A): probabilidad que el dia anterior haya sido frio\n",
    "\n",
    "P(2A):probabilidad que el dia anterior haya sido caliente\n",
    "\n",
    "P(3A): Probabilidad que el dia anterior haya sido tibio\n",
    "\n",
    "### Probabilidades condicionales\n",
    "\n",
    "P(S1/1A): Probabilidad que el dia sea frio dado que el dia anterior fue frio\n",
    "\n",
    "P(2A/S3) : Probabilidad que el dia anterior haya sido caliente dado que hoy es tibio\n",
    "\n",
    "Viceversa........"
   ]
  },
  {
   "cell_type": "markdown",
   "id": "e6cc8ee3-90e2-472e-af6c-5fa063e35da9",
   "metadata": {},
   "source": [
    "## Teorema de bayes \n",
    "\n",
    "$ P(H/E) = \\frac{P(H) - P(E/H)}{P(E)} = \\frac{P(H) P(E/H)}{P(H) P(E/H) + P(\\neg  H) P(E/\\neg H)} $\n",
    "\n",
    "En nuestro caso de estudio  la matrtiz de probabilidad  seria:\n",
    "\n",
    "matriz[0][0] fila 1 columna 1:\n",
    "$ P(S1/1A)  = \\frac{P(S1) P(1A/S1)}{P(S1) P(1A/S1) + P(\\neg  S1) P(1A/\\neg S1)} $\n",
    "\n",
    "matriz[1][0] fila 1 columna 0 : \n",
    "$ P(S1/2A)  = \\frac{P(S1) P(2A/S1)}{P(S1) P(2A/S1) + P(\\neg  S1) P(2A/\\neg S1)} $\n",
    "\n",
    "matriz[2][0] fila 3 columna 0:\n",
    "$ P(S1/3A)  = \\frac{P(S1) P(3A/S1)}{P(S1) P(3A/S1) + P(\\neg  S1) P(3A/\\neg S1)} $\n",
    "\n",
    "....................\n",
    "\n",
    "matriz[0][2] fila 1 columna 3:\n",
    "$ P(S3/1A)  = \\frac{P(S3) P(1A/S3)}{P(S3) P(1A/S3) + P(\\neg  S3) P(1A/\\neg S3)} $\n",
    "\n",
    "matriz[1][2] fila 2 columna 3:\n",
    "$ P(S3/2A)  = \\frac{P(S3) P(2A/S3)}{P(S3) P(2A/S3) + P(\\neg  S3) P(2A/\\neg S3)} $\n",
    "\n",
    "matriz[2][2] fila 3 columna 3:\n",
    "$ P(S3/3A)  = \\frac{P(S3) P(3A/S3)}{P(S3) P(3A/S3) + P(\\neg  S3) P(3A/\\neg S3)} $\n"
   ]
  },
  {
   "cell_type": "markdown",
   "id": "255320c9-45ca-4bf8-adf6-b647b286739b",
   "metadata": {},
   "source": [
    "Construimos  vectores de probilidad de la siguiente manera\n",
    "\n",
    "$A = [ P(S1), P(\\neg S1) , P(1A,S1), P(1A,\\neg S1) ] $\n",
    "\n",
    "$B = [ P(S1), P(\\neg S1) , P(2A,S1), P(2A,\\neg S1) ] $\n",
    "\n",
    "$C = [ P(S1), P(\\neg S1) , P(3A,S1), P(3A,\\neg S1) ] $\n",
    "\n",
    "$D = [ P(S2), P(\\neg S2) , P(1A,S2), P(1A,\\neg S2) ] $\n",
    "\n",
    "$E = [ P(S2), P(\\neg S2) , P(2A,S2), P(2A,\\neg S2) ] $\n",
    "\n",
    "$F = [ P(S2), P(\\neg S2) , P(3A,S2), P(3A,\\neg S2) ] $\n",
    "\n",
    "$G = [ P(S3), P(\\neg S3) , P(1A,S3), P(1A,\\neg S3) ] $\n",
    "\n",
    "$H = [ P(S3), P(\\neg S3) , P(2A,S3), P(2A,\\neg S3) ] $\n",
    "\n",
    "$I = [ P(S3), P(\\neg S3) , P(3A,S3), P(3A,\\neg S3) ] $"
   ]
  },
  {
   "cell_type": "code",
   "execution_count": 1,
   "id": "ce195e9b-c365-45f3-b7d9-d46a29a7119f",
   "metadata": {},
   "outputs": [],
   "source": [
    "A = [1/4, 3/4, 1/4, 1/4]\n",
    "B = [1/4, 3/4, 0, 1/4]\n",
    "C = [1/4, 3/4, 0, 1/4]\n",
    "D = [1/2, 1/2, 0, 1/2]\n",
    "E = [1/2, 1/2, 1/4, 0]\n",
    "F = [1/2, 1/2, 1/4, 0]\n",
    "G = [1/4, 3/4, 1/4, 1/4]\n",
    "H = [1/4, 3/4, 0, 1/4]\n",
    "I = [1/4, 3/4, 0, 1/4]"
   ]
  },
  {
   "cell_type": "code",
   "execution_count": 2,
   "id": "2a1badd4-013a-4be1-a49c-497f8f63416b",
   "metadata": {},
   "outputs": [],
   "source": [
    "matriz = [[0, 0, 0], [0, 0, 0], [0, 0, 0]]"
   ]
  },
  {
   "cell_type": "code",
   "execution_count": 3,
   "id": "69b3a37d-f7df-4b91-8968-e21086b6d3d8",
   "metadata": {},
   "outputs": [],
   "source": [
    "matriz[0][0] = A[0]*A[2] / (A[0]*A[2] + A[1]*A[3])\n",
    "matriz[1][0] = B[0]*B[2] / (B[0]*B[2] + B[1]*B[3])\n",
    "matriz[2][0] = C[0]*C[2] / (C[0]*C[2] + C[1]*C[3])\n",
    "\n",
    "matriz[0][1] = D[0]*D[2] / (D[0]*D[2] + D[1]*D[3])\n",
    "matriz[1][1] = E[0]*E[2] / (E[0]*E[2] + E[1]*E[3])\n",
    "matriz[2][1] = F[0]*F[2] / (F[0]*F[2] + F[1]*F[3])\n",
    "\n",
    "matriz[0][2] = G[0]*G[2] / (G[0]*G[2] + G[1]*G[3])\n",
    "matriz[1][2] = H[0]*H[2] / (H[0]*H[2] + H[1]*H[3])\n",
    "matriz[2][2] = I[0]*I[2] / (I[0]*I[2] + I[1]*I[3])"
   ]
  },
  {
   "cell_type": "markdown",
   "id": "e844d234-ca43-46f5-a21f-2a53506b9220",
   "metadata": {},
   "source": [
    "### Matriz de probabilidad"
   ]
  },
  {
   "cell_type": "code",
   "execution_count": 4,
   "id": "bf58f7b9-644e-4a86-9108-3e0d0153932c",
   "metadata": {},
   "outputs": [
    {
     "name": "stdout",
     "output_type": "stream",
     "text": [
      "[0.25, 0.0, 0.25]\n",
      "[0.0, 1.0, 0.0]\n",
      "[0.0, 1.0, 0.0]\n"
     ]
    }
   ],
   "source": [
    "for fila in matriz:\n",
    "    print(fila)"
   ]
  },
  {
   "cell_type": "code",
   "execution_count": null,
   "id": "7e9775a5-ef0e-4b08-9906-8a271d057625",
   "metadata": {},
   "outputs": [],
   "source": []
  },
  {
   "cell_type": "code",
   "execution_count": null,
   "id": "d38d8b6d-b2e6-46a8-ac7c-50c53ffcdd65",
   "metadata": {},
   "outputs": [],
   "source": []
  }
 ],
 "metadata": {
  "kernelspec": {
   "display_name": "Python 3 (ipykernel)",
   "language": "python",
   "name": "python3"
  },
  "language_info": {
   "codemirror_mode": {
    "name": "ipython",
    "version": 3
   },
   "file_extension": ".py",
   "mimetype": "text/x-python",
   "name": "python",
   "nbconvert_exporter": "python",
   "pygments_lexer": "ipython3",
   "version": "3.11.7"
  }
 },
 "nbformat": 4,
 "nbformat_minor": 5
}
